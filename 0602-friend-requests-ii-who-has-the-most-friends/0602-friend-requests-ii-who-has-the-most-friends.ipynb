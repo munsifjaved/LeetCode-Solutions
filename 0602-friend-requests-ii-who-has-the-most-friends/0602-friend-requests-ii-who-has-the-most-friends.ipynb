{
 "cells": [
  {
   "cell_type": "code",
   "execution_count": null,
   "metadata": {},
   "outputs": [],
   "source": [
    "import pandas as pd\n",
    "\n",
    "def most_friends(request_accepted: pd.DataFrame) -> pd.DataFrame:\n",
    "    table_1=request_accepted.groupby('accepter_id')['requester_id'].count().reset_index()\n",
    "    table_1=table_1.rename(columns={'accepter_id':'id','requester_id':'num'})\n",
    "    table_2=request_accepted.groupby('requester_id')['accepter_id'].count().reset_index()\n",
    "    table_2=table_2.rename(columns={'requester_id':'id','accepter_id':'num'})\n",
    "    result=pd.concat([table_1,table_2],ignore_index=True).groupby('id')['num'].sum().reset_index().nlargest(1,'num')\n",
    "    return result"
   ]
  }
 ],
 "metadata": {
  "language_info": {
   "name": "python"
  }
 },
 "nbformat": 4,
 "nbformat_minor": 2
}
