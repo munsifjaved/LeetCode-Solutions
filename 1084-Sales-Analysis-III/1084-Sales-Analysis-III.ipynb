{
 "cells": [
  {
   "cell_type": "code",
   "execution_count": null,
   "metadata": {},
   "outputs": [],
   "source": [
    "import pandas as pd\n",
    "\n",
    "def sales_analysis(product: pd.DataFrame, sales: pd.DataFrame) -> pd.DataFrame:\n",
    "\n",
    "    df = sales.groupby(['product_id'], as_index = False\n",
    "             ).agg(min=('sale_date', 'min'), max=('sale_date', 'max'))\n",
    "\n",
    "    result=df[(df['min'] >='2019-01-01') &\n",
    "              (df['max'] <='2019-03-31')].merge(product).iloc[:,[0,3]]\n",
    "    return result"
   ]
  }
 ],
 "metadata": {
  "language_info": {
   "name": "python"
  }
 },
 "nbformat": 4,
 "nbformat_minor": 2
}
