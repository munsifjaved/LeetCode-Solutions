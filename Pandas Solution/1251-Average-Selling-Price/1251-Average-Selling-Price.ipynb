{
 "cells": [
  {
   "cell_type": "code",
   "execution_count": null,
   "metadata": {},
   "outputs": [],
   "source": [
    "import pandas as pd\n",
    "\n",
    "def average_selling_price(prices: pd.DataFrame, units_sold: pd.DataFrame) -> pd.DataFrame:\n",
    "    merged_df = pd.merge(prices, units_sold, how='left', on='product_id')\n",
    "    merged_df = merged_df[(merged_df['purchase_date'].isna()) | ((merged_df['purchase_date'] >= merged_df['start_date']) & (merged_df['purchase_date'] <= merged_df['end_date']))]\n",
    "    merged_df['units'].fillna(0, inplace=True)\n",
    "    print(merged_df)\n",
    "    result_df = merged_df.groupby(by='product_id').apply(lambda x: round((x['price']*x['units']).sum() / x['units'].sum(), 2) if x['units'].sum() != 0 else 0).reset_index(name='average_price')\n",
    "\n",
    "    return result_df\n",
    "    "
   ]
  }
 ],
 "metadata": {
  "language_info": {
   "name": "python"
  }
 },
 "nbformat": 4,
 "nbformat_minor": 2
}
