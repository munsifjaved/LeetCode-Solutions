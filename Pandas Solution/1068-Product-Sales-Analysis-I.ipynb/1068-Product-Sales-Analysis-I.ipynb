{
 "cells": [
  {
   "cell_type": "code",
   "execution_count": null,
   "metadata": {},
   "outputs": [],
   "source": [
    "import pandas as pd\n",
    "\n",
    "def sales_analysis(sales: pd.DataFrame, product: pd.DataFrame) -> pd.DataFrame:\n",
    "    merged_df = sales.merge(product, on = 'product_id')\n",
    "\n",
    "    return merged_df[['product_name', 'year','' 'price']]"
   ]
  }
 ],
 "metadata": {
  "language_info": {
   "name": "python"
  }
 },
 "nbformat": 4,
 "nbformat_minor": 2
}
