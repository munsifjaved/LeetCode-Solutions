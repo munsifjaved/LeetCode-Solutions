{
 "cells": [
  {
   "cell_type": "code",
   "execution_count": null,
   "metadata": {},
   "outputs": [],
   "source": [
    "import pandas as pd\n",
    "\n",
    "def restaurant_growth(customer: pd.DataFrame) -> pd.DataFrame:\n",
    "    daily_amount = customer.groupby('visited_on')['amount'].sum().reset_index() \n",
    "    daily_amount['average_amount']=daily_amount['amount'].rolling(window=7, min_periods=7).mean().round(2)\n",
    "    daily_amount['amount']=daily_amount['amount'].rolling(window=7, min_periods=7).sum()\n",
    "    return daily_amount[daily_amount.amount.notnull()].sort_values(by='visited_on')"
   ]
  }
 ],
 "metadata": {
  "language_info": {
   "name": "python"
  }
 },
 "nbformat": 4,
 "nbformat_minor": 2
}
