{
 "cells": [
  {
   "cell_type": "code",
   "execution_count": null,
   "metadata": {},
   "outputs": [],
   "source": [
    "import pandas as pd\n",
    "\n",
    "def find_investments(insurance: pd.DataFrame) -> pd.DataFrame:\n",
    "    unique_city = ~insurance.duplicated(subset=['lat', 'lon'], keep=False)\n",
    "    duplicate_tiv_2015 = insurance.duplicated(subset='tiv_2015', keep=False)\n",
    "    result = round(insurance[unique_city & duplicate_tiv_2015]['tiv_2016'].sum(), 2)\n",
    "    return pd.DataFrame({'tiv_2016':[result]})\n"
   ]
  }
 ],
 "metadata": {
  "language_info": {
   "name": "python"
  }
 },
 "nbformat": 4,
 "nbformat_minor": 2
}
