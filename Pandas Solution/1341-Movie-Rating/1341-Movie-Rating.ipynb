{
 "cells": [
  {
   "cell_type": "code",
   "execution_count": null,
   "metadata": {},
   "outputs": [],
   "source": [
    "import pandas as pd\n",
    "\n",
    "def movie_rating(movies: pd.DataFrame, users: pd.DataFrame, movie_rating: pd.DataFrame) -> pd.DataFrame:\n",
    "    reqd_user_name = movie_rating.groupby(['user_id'],as_index=False)['movie_id'].count().merge(users,on='user_id',how='left').sort_values(['movie_id','name'],ascending=[False,True])['name'].values[0]\n",
    "    movie_rating = movie_rating[(movie_rating['created_at'].dt.month==2) & (movie_rating['created_at'].dt.year==2020)]\n",
    "    reqd_movie_name = movie_rating.groupby(['movie_id'],as_index=False)['rating'].mean().merge(movies,on='movie_id',how='left').sort_values(['rating','title'],ascending=[False,True])['title'].values[0]\n",
    "    return pd.DataFrame({'results':[reqd_user_name, reqd_movie_name]})"
   ]
  }
 ],
 "metadata": {
  "language_info": {
   "name": "python"
  }
 },
 "nbformat": 4,
 "nbformat_minor": 2
}
