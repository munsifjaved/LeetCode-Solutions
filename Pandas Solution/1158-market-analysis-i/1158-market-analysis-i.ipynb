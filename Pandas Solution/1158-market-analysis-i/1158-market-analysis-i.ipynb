{
 "cells": [
  {
   "cell_type": "code",
   "execution_count": null,
   "metadata": {},
   "outputs": [],
   "source": [
    "import pandas as pd\n",
    "\n",
    "def market_analysis(users: pd.DataFrame, orders: pd.DataFrame, items: pd.DataFrame) -> pd.DataFrame:\n",
    "    buyer_counts = orders[orders['order_date'].dt.year == 2019]['buyer_id'].value_counts().to_frame('orders_in_2019')\n",
    "    result = users.merge(buyer_counts, left_on='user_id', right_index=True, how='left').fillna(0)\n",
    "    result.columns = ['buyer_id', 'join_date','favorite_brand', 'orders_in_2019']\n",
    "    return result[['buyer_id', 'join_date', 'orders_in_2019']]"
   ]
  }
 ],
 "metadata": {
  "language_info": {
   "name": "python"
  }
 },
 "nbformat": 4,
 "nbformat_minor": 2
}
