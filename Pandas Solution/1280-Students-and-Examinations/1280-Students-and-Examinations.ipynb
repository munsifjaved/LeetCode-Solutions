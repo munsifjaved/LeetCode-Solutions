{
 "cells": [
  {
   "cell_type": "code",
   "execution_count": null,
   "metadata": {},
   "outputs": [],
   "source": [
    "import pandas as pd\n",
    "\n",
    "def students_and_examinations(students: pd.DataFrame, subjects: pd.DataFrame, examinations: pd.DataFrame) -> pd.DataFrame:\n",
    "    df = examinations.groupby(['student_id', 'subject_name']).size().reset_index(name='attended_exams')\n",
    "    df2 = students.merge(subjects, how='cross')\n",
    "    result = df2.merge(df, on=['student_id', 'subject_name'], how='left').sort_values(by=['student_id', 'subject_name'])\n",
    "    result['attended_exams'].fillna(0, inplace=True)\n",
    "    return result\n"
   ]
  }
 ],
 "metadata": {
  "language_info": {
   "name": "python"
  }
 },
 "nbformat": 4,
 "nbformat_minor": 2
}
