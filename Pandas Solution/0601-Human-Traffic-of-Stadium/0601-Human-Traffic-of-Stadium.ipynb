{
 "cells": [
  {
   "cell_type": "code",
   "execution_count": null,
   "metadata": {},
   "outputs": [],
   "source": [
    "import pandas as pd\n",
    "\n",
    "def human_traffic(stadium: pd.DataFrame) -> pd.DataFrame:\n",
    "    r = stadium['people'].rolling(window=3).min() >= 100\n",
    "    return stadium[r | r.shift(-1) | r.shift(-2)]\n"
   ]
  }
 ],
 "metadata": {
  "language_info": {
   "name": "python"
  }
 },
 "nbformat": 4,
 "nbformat_minor": 2
}
