{
 "cells": [
  {
   "cell_type": "code",
   "execution_count": null,
   "metadata": {},
   "outputs": [],
   "source": [
    "import pandas as pd\n",
    "\n",
    "def find_employees(employee: pd.DataFrame) -> pd.DataFrame:\n",
    "    df_merged = employee.merge(employee, left_on='managerId', right_on='id', suffixes=('', '_mgr'))\n",
    "    result = df_merged[df_merged['salary'] > df_merged['salary_mgr']][['name']].rename(columns={'name':'Employee'})\n",
    "    return result"
   ]
  }
 ],
 "metadata": {
  "language_info": {
   "name": "python"
  }
 },
 "nbformat": 4,
 "nbformat_minor": 2
}
