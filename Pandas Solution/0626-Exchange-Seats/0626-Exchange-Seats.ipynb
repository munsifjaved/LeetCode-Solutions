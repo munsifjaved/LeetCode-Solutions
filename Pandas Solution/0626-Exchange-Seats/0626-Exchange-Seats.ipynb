{
 "cells": [
  {
   "cell_type": "code",
   "execution_count": null,
   "metadata": {},
   "outputs": [],
   "source": [
    "import pandas as pd\n",
    "\n",
    "def exchange_seats(seat: pd.DataFrame) -> pd.DataFrame:\n",
    "    students = seat['student'].values.copy()\n",
    "    swapped_students = students.copy()\n",
    "    swapped_students[:-1:2], swapped_students[1::2] = students[1::2], students[:-1:2]\n",
    "    seat['student'] = swapped_students\n",
    "    return seat\n"
   ]
  }
 ],
 "metadata": {
  "language_info": {
   "name": "python"
  }
 },
 "nbformat": 4,
 "nbformat_minor": 2
}
