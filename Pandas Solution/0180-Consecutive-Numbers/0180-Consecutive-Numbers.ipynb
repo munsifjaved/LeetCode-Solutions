{
 "cells": [
  {
   "cell_type": "code",
   "execution_count": null,
   "metadata": {},
   "outputs": [],
   "source": [
    "import pandas as pd\n",
    "\n",
    "def consecutive_numbers(logs: pd.DataFrame) -> pd.DataFrame:\n",
    "\n",
    "    logs.sort_values(['id'], inplace = True)\n",
    "\n",
    "    logs = logs[(logs.num == logs.num.shift(1)) & \n",
    "                (logs.num == logs.num.shift(2)) & \n",
    "                (logs.id  == logs.id.shift(1)+1) & \n",
    "                (logs.id  == logs.id.shift(2)+2)  \n",
    "                ].drop_duplicates('num')\n",
    "        \n",
    "    return logs.iloc[:,[1]].rename(columns = {'num':'ConsecutiveNums'})"
   ]
  }
 ],
 "metadata": {
  "language_info": {
   "name": "python"
  }
 },
 "nbformat": 4,
 "nbformat_minor": 2
}
