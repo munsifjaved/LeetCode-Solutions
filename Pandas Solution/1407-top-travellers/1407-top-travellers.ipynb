{
 "cells": [
  {
   "cell_type": "code",
   "execution_count": null,
   "metadata": {},
   "outputs": [],
   "source": [
    "import pandas as pd\n",
    "\n",
    "def top_travellers(users: pd.DataFrame, rides: pd.DataFrame) -> pd.DataFrame:\n",
    "    merge_table=users.merge(rides,left_on='id',right_on='user_id',how='left')\n",
    "    agg=merge_table.groupby(['id_x','name'])['distance'].sum().reset_index()\n",
    "    result=agg.fillna(0).sort_values(['distance','name'],ascending=[False,True]).rename(columns={'distance':'travelled_distance'})\n",
    "    return result[['name','travelled_distance']]"
   ]
  }
 ],
 "metadata": {
  "language_info": {
   "name": "python"
  }
 },
 "nbformat": 4,
 "nbformat_minor": 2
}
