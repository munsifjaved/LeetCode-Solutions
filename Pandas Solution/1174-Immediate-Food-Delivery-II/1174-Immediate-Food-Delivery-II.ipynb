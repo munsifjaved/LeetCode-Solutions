{
 "cells": [
  {
   "cell_type": "code",
   "execution_count": null,
   "metadata": {},
   "outputs": [],
   "source": [
    "import pandas as pd\n",
    "\n",
    "def immediate_food_delivery(delivery: pd.DataFrame) -> pd.DataFrame:\n",
    "    df=delivery.groupby(\"customer_id\").min()\n",
    "    filtere_df=df[df[\"order_date\"]==df[\"customer_pref_delivery_date\"]]\n",
    "    return pd.DataFrame({\"immediate_percentage\":[len(filtere_df)/len(df)*100]}).round(2)"
   ]
  }
 ],
 "metadata": {
  "language_info": {
   "name": "python"
  }
 },
 "nbformat": 4,
 "nbformat_minor": 2
}
