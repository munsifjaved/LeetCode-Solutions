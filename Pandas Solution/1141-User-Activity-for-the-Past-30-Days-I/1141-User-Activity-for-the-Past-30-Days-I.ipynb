{
 "cells": [
  {
   "cell_type": "code",
   "execution_count": null,
   "metadata": {},
   "outputs": [],
   "source": [
    "import pandas as pd\n",
    "\n",
    "def user_activity(activity: pd.DataFrame) -> pd.DataFrame:\n",
    "    end_date = pd.to_datetime('2019-07-27')\n",
    "    start_date = end_date - pd.Timedelta(days=29)\n",
    "\n",
    "    # Filter rows within the date range\n",
    "    filtered = activity[(activity['activity_date'] >= start_date) & \n",
    "                            (activity['activity_date'] <= end_date)]\n",
    "\n",
    "    # Group by activity_date and count unique user_id entries for each day\n",
    "    active_users = (\n",
    "        filtered.groupby('activity_date')['user_id']\n",
    "        .nunique()\n",
    "        .reset_index(name='active_users').rename(columns={'activity_date':'day'})\n",
    "    )\n",
    "    return active_users"
   ]
  }
 ],
 "metadata": {
  "language_info": {
   "name": "python"
  }
 },
 "nbformat": 4,
 "nbformat_minor": 2
}
