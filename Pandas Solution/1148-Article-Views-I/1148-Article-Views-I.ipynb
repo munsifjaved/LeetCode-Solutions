{
 "cells": [
  {
   "cell_type": "code",
   "execution_count": null,
   "metadata": {},
   "outputs": [],
   "source": [
    "import pandas as pd\n",
    "\n",
    "def article_views(views: pd.DataFrame) -> pd.DataFrame:\n",
    "    filtered=views[views.author_id == views.viewer_id]['author_id'].unique()\n",
    "    return pd.DataFrame(filtered,columns=['id']).sort_values(by='id')"
   ]
  }
 ],
 "metadata": {
  "language_info": {
   "name": "python"
  }
 },
 "nbformat": 4,
 "nbformat_minor": 2
}
