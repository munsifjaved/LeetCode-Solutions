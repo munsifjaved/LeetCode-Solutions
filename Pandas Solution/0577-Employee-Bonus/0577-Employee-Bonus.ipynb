{
 "cells": [
  {
   "cell_type": "code",
   "execution_count": null,
   "metadata": {},
   "outputs": [],
   "source": [
    "import pandas as pd\n",
    "\n",
    "def employee_bonus(employee: pd.DataFrame, bonus: pd.DataFrame) -> pd.DataFrame:\n",
    "    merged=employee.merge(bonus, on='empId',how='left')\n",
    "    return merged[(merged.bonus<1000)|(merged.bonus.isna())][['name','bonus']]"
   ]
  }
 ],
 "metadata": {
  "language_info": {
   "name": "python"
  }
 },
 "nbformat": 4,
 "nbformat_minor": 2
}
