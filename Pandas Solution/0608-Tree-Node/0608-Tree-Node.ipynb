{
 "cells": [
  {
   "cell_type": "code",
   "execution_count": null,
   "metadata": {},
   "outputs": [],
   "source": [
    "import pandas as pd\n",
    "\n",
    "def tree_node(tree: pd.DataFrame) -> pd.DataFrame:\n",
    "    tree[\"type\"] = np.select([tree[\"p_id\"].isna(), ~tree.id.isin(tree.p_id)] ,[\"Root\", \"Leaf\"], default=\"Inner\")\n",
    "    return tree[[\"id\", \"type\"]]"
   ]
  }
 ],
 "metadata": {
  "language_info": {
   "name": "python"
  }
 },
 "nbformat": 4,
 "nbformat_minor": 2
}
