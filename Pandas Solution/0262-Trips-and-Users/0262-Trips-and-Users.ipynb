{
 "cells": [
  {
   "cell_type": "code",
   "execution_count": null,
   "metadata": {},
   "outputs": [],
   "source": [
    "import pandas as pd\n",
    "\n",
    "def trips_and_users(trips: pd.DataFrame, users: pd.DataFrame) -> pd.DataFrame:\n",
    "    \n",
    "    merged = trips.merge(users, left_on='client_id', right_on='users_id', how='left', suffixes=('_client', '_user'))\n",
    "    merged = merged.merge(users, left_on='driver_id', right_on='users_id', how='left', suffixes=('_client', '_driver'))\n",
    "    filtered = merged[(merged.banned_client == 'No') & (merged.banned_driver == 'No') & (merged.request_at >='2013-10-01') & (merged.request_at <= '2013-10-03')]\n",
    "    result = filtered[(filtered.status == 'cancelled_by_driver') | (filtered.status == 'cancelled_by_client')]['request_at'].value_counts()\n",
    "    bb = filtered['request_at'].value_counts()\n",
    "    cancellation_rate = result.divide(bb, fill_value=0).round(2)\n",
    "    cancellation_rate = cancellation_rate.reset_index()\n",
    "    cancellation_rate.columns = ['Day', 'Cancellation Rate']\n",
    "    return cancellation_rate\n"
   ]
  }
 ],
 "metadata": {
  "language_info": {
   "name": "python"
  }
 },
 "nbformat": 4,
 "nbformat_minor": 2
}
