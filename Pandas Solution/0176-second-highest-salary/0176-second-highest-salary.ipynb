{
 "cells": [
  {
   "cell_type": "code",
   "execution_count": null,
   "metadata": {},
   "outputs": [],
   "source": [
    "import pandas as pd\n",
    "\n",
    "def second_highest_salary(employee: pd.DataFrame) -> pd.DataFrame:\n",
    "    unique_salaries = employee.drop_duplicates(subset='salary').salary.nlargest(2)\n",
    "    if len(unique_salaries) < 2:\n",
    "        result = pd.DataFrame({'SecondHighestSalary': [None]})\n",
    "    else:\n",
    "        second_highest = unique_salaries.iloc[1]\n",
    "        result = pd.DataFrame({'SecondHighestSalary': [second_highest]})\n",
    "    return result\n"
   ]
  }
 ],
 "metadata": {
  "language_info": {
   "name": "python"
  }
 },
 "nbformat": 4,
 "nbformat_minor": 2
}
