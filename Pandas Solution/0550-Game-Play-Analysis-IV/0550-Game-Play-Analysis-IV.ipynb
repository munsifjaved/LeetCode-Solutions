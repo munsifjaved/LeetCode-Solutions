{
 "cells": [
  {
   "cell_type": "code",
   "execution_count": null,
   "metadata": {},
   "outputs": [],
   "source": [
    "import pandas as pd\n",
    "\n",
    "def gameplay_analysis(activity: pd.DataFrame) -> pd.DataFrame:\n",
    "    activity['first_played']=activity.groupby(['player_id'])['event_date'].transform('min')\n",
    "    t= activity[(activity['event_date']-activity['first_played']).dt.days==1]['player_id'].nunique() /\\\n",
    "    activity['player_id'].nunique()\n",
    "    return pd.DataFrame(data=[[round(t,2)]], columns=['fraction'])\n",
    "    "
   ]
  }
 ],
 "metadata": {
  "language_info": {
   "name": "python"
  }
 },
 "nbformat": 4,
 "nbformat_minor": 2
}
