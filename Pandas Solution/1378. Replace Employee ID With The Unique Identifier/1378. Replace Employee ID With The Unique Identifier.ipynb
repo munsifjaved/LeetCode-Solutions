{
 "cells": [
  {
   "cell_type": "code",
   "execution_count": null,
   "metadata": {},
   "outputs": [],
   "source": [
    "    import pandas as pd\n",
    "\n",
    "    def replace_employee_id(employees: pd.DataFrame, employee_uni: pd.DataFrame) -> pd.DataFrame:\n",
    "        result=employee_uni.merge(employees,on='id',how='outer')\n",
    "        return result[result.name.notnull()][['unique_id','name']]"
   ]
  }
 ],
 "metadata": {
  "language_info": {
   "name": "python"
  }
 },
 "nbformat": 4,
 "nbformat_minor": 2
}
