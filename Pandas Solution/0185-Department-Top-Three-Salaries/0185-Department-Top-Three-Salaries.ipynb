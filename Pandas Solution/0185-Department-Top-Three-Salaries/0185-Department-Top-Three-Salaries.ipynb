{
 "cells": [
  {
   "cell_type": "code",
   "execution_count": null,
   "metadata": {},
   "outputs": [],
   "source": [
    "import pandas as pd\n",
    "\n",
    "def top_three_salaries(employee: pd.DataFrame, department: pd.DataFrame) -> pd.DataFrame:\n",
    "    employee['d_rank']=employee.groupby('departmentId')['salary'].rank(method='dense',ascending=False)\n",
    "    filtered_df=employee[employee['d_rank']<=3]\n",
    "    merged=filtered_df.merge(department,left_on='departmentId',right_on='id',suffixes=['_emp','_dep']).rename(columns={'name_emp':'Employee','name_dep':'Department','salary':'Salary'})\n",
    "    return merged[['Department','Employee','Salary']]\n",
    "    "
   ]
  }
 ],
 "metadata": {
  "language_info": {
   "name": "python"
  }
 },
 "nbformat": 4,
 "nbformat_minor": 2
}
