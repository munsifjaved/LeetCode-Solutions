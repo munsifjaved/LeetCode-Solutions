{
 "cells": [
  {
   "cell_type": "code",
   "execution_count": null,
   "metadata": {},
   "outputs": [],
   "source": [
    "import pandas as pd\n",
    "\n",
    "def capital_gainloss(stocks: pd.DataFrame) -> pd.DataFrame:\n",
    "    result=stocks[stocks.operation=='Sell'].groupby('stock_name')['price'].sum()-stocks[stocks.operation=='Buy'].groupby('stock_name')['price'].sum()\n",
    "    return result.reset_index(name='capital_gain_loss')"
   ]
  }
 ],
 "metadata": {
  "language_info": {
   "name": "python"
  }
 },
 "nbformat": 4,
 "nbformat_minor": 2
}
