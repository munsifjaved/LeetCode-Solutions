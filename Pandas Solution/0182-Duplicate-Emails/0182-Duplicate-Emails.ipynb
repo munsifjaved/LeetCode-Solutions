{
 "cells": [
  {
   "cell_type": "code",
   "execution_count": null,
   "metadata": {},
   "outputs": [],
   "source": [
    "import pandas as pd\n",
    "\n",
    "def duplicate_emails(person: pd.DataFrame) -> pd.DataFrame:\n",
    "    result=person['email'].value_counts().reset_index()\n",
    "    return result[result['count']>1][['email']]"
   ]
  }
 ],
 "metadata": {
  "language_info": {
   "name": "python"
  }
 },
 "nbformat": 4,
 "nbformat_minor": 2
}
