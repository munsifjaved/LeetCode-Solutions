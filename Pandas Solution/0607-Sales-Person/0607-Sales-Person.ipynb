{
 "cells": [
  {
   "cell_type": "code",
   "execution_count": null,
   "metadata": {},
   "outputs": [],
   "source": [
    "import pandas as pd\n",
    "\n",
    "def sales_person(sales_person: pd.DataFrame, company: pd.DataFrame, orders: pd.DataFrame) -> pd.DataFrame:\n",
    "    filtered=company['com_id'][company['name']=='RED']\n",
    "    sales=orders['sales_id'][orders['com_id'].isin(filtered)]\n",
    "    return sales_person[['name']][~sales_person['sales_id'].isin(sales)]"
   ]
  }
 ],
 "metadata": {
  "language_info": {
   "name": "python"
  }
 },
 "nbformat": 4,
 "nbformat_minor": 2
}
