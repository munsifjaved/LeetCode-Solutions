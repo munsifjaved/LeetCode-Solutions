{
 "cells": [
  {
   "cell_type": "code",
   "execution_count": null,
   "metadata": {},
   "outputs": [],
   "source": [
    "import pandas as pd\n",
    "\n",
    "def list_products(products: pd.DataFrame, orders: pd.DataFrame) -> pd.DataFrame:\n",
    "    orders['Month'] = orders['order_date'].dt.to_period('M').astype(str)\n",
    "    df=orders.merge(products,on='product_id')\n",
    "    result = df.groupby(['product_name', 'Month'])['unit'].sum().reset_index()\n",
    "    return result[(result.Month=='2020-02')&(result.unit>=100)][['product_name','unit']]"
   ]
  }
 ],
 "metadata": {
  "language_info": {
   "name": "python"
  }
 },
 "nbformat": 4,
 "nbformat_minor": 2
}
