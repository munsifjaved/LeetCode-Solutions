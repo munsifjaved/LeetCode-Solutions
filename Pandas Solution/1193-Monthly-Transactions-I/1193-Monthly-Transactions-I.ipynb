{
 "cells": [
  {
   "cell_type": "code",
   "execution_count": null,
   "metadata": {},
   "outputs": [],
   "source": [
    "import pandas as pd\n",
    "\n",
    "def monthly_transactions(transactions: pd.DataFrame) -> pd.DataFrame:\n",
    "    transactions['month']=transactions.trans_date.dt.strftime('%Y-%m')\n",
    "    return transactions.groupby(['month', 'country'], dropna=False).agg(\n",
    "    trans_count=('id', 'count'),\n",
    "    approved_count=('id', lambda x: x[transactions.loc[x.index, 'state'] == 'approved'].count()),\n",
    "    trans_total_amount=('amount', 'sum'),\n",
    "    approved_total_amount=('amount', lambda x: x[transactions.loc[x.index, 'state'] == 'approved'].sum())\n",
    "    ).reset_index()\n",
    "    "
   ]
  }
 ],
 "metadata": {
  "language_info": {
   "name": "python"
  }
 },
 "nbformat": 4,
 "nbformat_minor": 2
}
