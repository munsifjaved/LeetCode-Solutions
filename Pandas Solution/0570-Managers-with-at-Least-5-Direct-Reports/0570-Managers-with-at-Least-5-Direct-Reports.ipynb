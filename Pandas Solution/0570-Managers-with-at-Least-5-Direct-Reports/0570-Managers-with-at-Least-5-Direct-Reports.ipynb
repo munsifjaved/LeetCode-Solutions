{
 "cells": [
  {
   "cell_type": "code",
   "execution_count": null,
   "metadata": {},
   "outputs": [],
   "source": [
    "import pandas as pd\n",
    "\n",
    "def find_managers(employee: pd.DataFrame) -> pd.DataFrame:\n",
    "    filtered= employee.managerId.value_counts().reset_index(name='report_count')\n",
    "    return employee[employee.id.isin(filtered[filtered.report_count >= 5]['managerId'])][['name']]"
   ]
  }
 ],
 "metadata": {
  "language_info": {
   "name": "python"
  }
 },
 "nbformat": 4,
 "nbformat_minor": 2
}
