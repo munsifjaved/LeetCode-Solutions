{
 "cells": [
  {
   "cell_type": "code",
   "execution_count": null,
   "metadata": {},
   "outputs": [],
   "source": [
    "import pandas as pd\n",
    "\n",
    "def triangle_judgement(triangle: pd.DataFrame) -> pd.DataFrame:\n",
    "    triangle['triangle'] = np.where(\n",
    "    (triangle['x'] + triangle['y'] > triangle['z']) & \n",
    "    (triangle['x'] + triangle['z'] > triangle['y']) & \n",
    "    (triangle['y'] + triangle['z'] > triangle['x']),\n",
    "    'Yes', 'No'\n",
    "    )\n",
    "    return triangle"
   ]
  }
 ],
 "metadata": {
  "language_info": {
   "name": "python"
  }
 },
 "nbformat": 4,
 "nbformat_minor": 2
}
