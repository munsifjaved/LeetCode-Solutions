{
 "cells": [
  {
   "cell_type": "code",
   "execution_count": null,
   "metadata": {},
   "outputs": [],
   "source": [
    "import pandas as pd\n",
    "\n",
    "round2 = lambda x: round(x + 1e-9, 2)\n",
    "\n",
    "def queries_stats(queries: pd.DataFrame) -> pd.DataFrame:\n",
    "\n",
    "    queries['quality'] = queries.rating/queries.position\n",
    "    queries['poor_query_percentage'] = (queries.rating < 3)*100\n",
    "\n",
    "    return queries.groupby('query_name')[['quality',\n",
    "          'poor_query_percentage']].mean().apply(round2).reset_index()"
   ]
  }
 ],
 "metadata": {
  "language_info": {
   "name": "python"
  }
 },
 "nbformat": 4,
 "nbformat_minor": 2
}
