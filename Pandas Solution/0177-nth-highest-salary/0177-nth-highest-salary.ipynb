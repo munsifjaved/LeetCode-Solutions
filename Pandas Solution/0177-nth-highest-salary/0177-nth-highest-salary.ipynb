{
 "cells": [
  {
   "cell_type": "code",
   "execution_count": null,
   "metadata": {},
   "outputs": [],
   "source": [
    "import pandas as pd\n",
    "\n",
    "def nth_highest_salary(employee: pd.DataFrame, N: int) -> pd.DataFrame:\n",
    "    nhighest = employee.drop_duplicates(subset='salary').salary.nlargest(abs(N))\n",
    "    if N <= 0 or len(nhighest) < abs(N):\n",
    "        return pd.DataFrame({f'getNthHighestSalary({N})': [nan]})\n",
    "    return pd.DataFrame({f'getNthHighestSalary({N})': [nhighest.iloc[N-1]]})\n",
    "\n"
   ]
  }
 ],
 "metadata": {
  "language_info": {
   "name": "python"
  }
 },
 "nbformat": 4,
 "nbformat_minor": 2
}
