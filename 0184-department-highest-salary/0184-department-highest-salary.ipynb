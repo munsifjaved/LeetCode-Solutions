{
 "cells": [
  {
   "cell_type": "code",
   "execution_count": null,
   "metadata": {},
   "outputs": [],
   "source": [
    "import pandas as pd\n",
    "\n",
    "def department_highest_salary(employee: pd.DataFrame, department: pd.DataFrame) -> pd.DataFrame:\n",
    "    dept_salary=employee.groupby(['departmentId'])['salary'].max().reset_index()\n",
    "    filtered_employee=employee.merge(dept_salary,on=['departmentId','salary'])\n",
    "    merged=filtered_employee.merge(department,left_on='departmentId',right_on='id',suffixes=['_e','_d'])\n",
    "    result=merged.rename(columns={'name_e':'Employee','name_d':'Department','salary':'Salary'}) \n",
    "    return result[['Department','Employee','Salary']]\n",
    "\n"
   ]
  }
 ],
 "metadata": {
  "language_info": {
   "name": "python"
  }
 },
 "nbformat": 4,
 "nbformat_minor": 2
}
