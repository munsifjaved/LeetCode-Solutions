{
 "cells": [
  {
   "cell_type": "code",
   "execution_count": null,
   "metadata": {},
   "outputs": [],
   "source": [
    "import pandas as pd\n",
    "\n",
    "def last_passenger(queue: pd.DataFrame) -> pd.DataFrame:\n",
    "    queue = queue.sort_values('turn')\n",
    "    queue['cum_sum']=queue['weight'].cumsum()\n",
    "    result = queue[queue['cum_sum'] <= 1000].nlargest(1, 'turn')\n",
    "    return result[['person_name']]"
   ]
  }
 ],
 "metadata": {
  "language_info": {
   "name": "python"
  }
 },
 "nbformat": 4,
 "nbformat_minor": 2
}
