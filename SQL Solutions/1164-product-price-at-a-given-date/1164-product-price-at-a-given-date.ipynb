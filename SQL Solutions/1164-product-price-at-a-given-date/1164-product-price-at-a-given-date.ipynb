{
 "cells": [
  {
   "cell_type": "code",
   "execution_count": null,
   "metadata": {},
   "outputs": [],
   "source": [
    "import pandas as pd\n",
    "\n",
    "def price_at_given_date(products: pd.DataFrame) -> pd.DataFrame:\n",
    "    filtered = products[products['change_date'] <= '2019-08-16'].sort_values('change_date').groupby('product_id').tail(1).reset_index(drop=True)\n",
    "    result=filtered.merge(products[['product_id']].drop_duplicates(),on='product_id',how='right').rename(columns={'new_price':'price'})\n",
    "    result['price']=result.price.fillna(10)\n",
    "    return result[['product_id','price']]"
   ]
  }
 ],
 "metadata": {
  "language_info": {
   "name": "python"
  }
 },
 "nbformat": 4,
 "nbformat_minor": 2
}
