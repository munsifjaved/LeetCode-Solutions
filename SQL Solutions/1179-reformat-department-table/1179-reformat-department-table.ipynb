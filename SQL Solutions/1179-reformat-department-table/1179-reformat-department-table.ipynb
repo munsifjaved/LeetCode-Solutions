{
 "cells": [
  {
   "cell_type": "code",
   "execution_count": null,
   "metadata": {},
   "outputs": [],
   "source": [
    "import pandas as pd\n",
    "\n",
    "def reformat_table(department: pd.DataFrame) -> pd.DataFrame:\n",
    "    prefixes = [\"Jan\",\"Feb\",\"Mar\",\"Apr\",\"May\",\"Jun\",\"Jul\",\"Aug\",\"Sep\",\"Oct\",\"Nov\",\"Dec\"]\n",
    "\n",
    "    result = department.pivot(index='id', columns='month', values='revenue')\n",
    "    result = result.reindex(columns=prefixes) # put months in order, and add null cols for missing months\n",
    "    result.rename(columns=lambda prefix: prefix + \"_Revenue\", inplace=True) # e.g. Jan => Jan_Revenue. id column is still being used as index so it doesn't changes\n",
    "    result.reset_index(inplace=True)\n",
    "\n",
    "    return result"
   ]
  }
 ],
 "metadata": {
  "language_info": {
   "name": "python"
  }
 },
 "nbformat": 4,
 "nbformat_minor": 2
}
